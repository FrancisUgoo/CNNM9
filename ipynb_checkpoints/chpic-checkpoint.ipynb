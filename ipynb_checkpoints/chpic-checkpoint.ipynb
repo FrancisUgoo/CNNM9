{
 "cells": [
  {
   "cell_type": "code",
   "execution_count": 1,
   "id": "564dd800",
   "metadata": {},
   "outputs": [],
   "source": [
    "import os\n",
    "import matplotlib.pyplot as plt\n",
    "import numpy as np\n",
    "#import tensorflow as tf\n",
    "\n",
    "\n",
    "# import required libraries\n",
    "import cv2\n",
    "import os"
   ]
  },
  {
   "cell_type": "code",
   "execution_count": 220,
   "id": "36c8799b",
   "metadata": {},
   "outputs": [
    {
     "name": "stdout",
     "output_type": "stream",
     "text": [
      "1\n",
      "Number of detected faces: 1\n",
      "C:/Users/research/Desktop/thesis/test/aaza/ffhq_0.png is saved\n",
      "2\n",
      "Number of detected faces: 1\n",
      "C:/Users/research/Desktop/thesis/test/aaza/ffhq_121.png is saved\n",
      "3\n",
      "Number of detected faces: 1\n",
      "C:/Users/research/Desktop/thesis/test/aaza/ffhq_14.png is saved\n",
      "4\n",
      "Number of detected faces: 1\n",
      "C:/Users/research/Desktop/thesis/test/aaza/ffhq_18.png is saved\n",
      "5\n",
      "Number of detected faces: 1\n",
      "C:/Users/research/Desktop/thesis/test/aaza/ffhq_23.png is saved\n",
      "6\n",
      "Number of detected faces: 1\n",
      "C:/Users/research/Desktop/thesis/test/aaza/ffhq_3.png is saved\n",
      "7\n",
      "Number of detected faces: 0\n",
      "Number of detected faces: 0\n",
      "Number of detected faces: 0\n",
      "Number of detected faces: 0\n",
      "8\n",
      "Number of detected faces: 1\n",
      "C:/Users/research/Desktop/thesis/test/aaza/image0000068.jpg is saved\n",
      "9\n",
      "Number of detected faces: 0\n",
      "Number of detected faces: 1\n",
      "C:/Users/research/Desktop/thesis/test/aaza/image0000213.jpg is saved\n",
      "10\n",
      "Number of detected faces: 1\n",
      "C:/Users/research/Desktop/thesis/test/aaza/image0000965.jpg is saved\n",
      "11\n",
      "Number of detected faces: 1\n",
      "C:/Users/research/Desktop/thesis/test/aaza/image0001434.jpg is saved\n",
      "12\n",
      "Number of detected faces: 1\n",
      "C:/Users/research/Desktop/thesis/test/aaza/image0001934.jpg is saved\n",
      "13\n",
      "Number of detected faces: 1\n",
      "C:/Users/research/Desktop/thesis/test/aaza/image0001974.jpg is saved\n",
      "14\n",
      "Number of detected faces: 2\n",
      "C:/Users/research/Desktop/thesis/test/aaza/image0002061.jpg is saved\n",
      "C:/Users/research/Desktop/thesis/test/aaza/image0002061.jpg is saved\n",
      "15\n",
      "Number of detected faces: 1\n",
      "C:/Users/research/Desktop/thesis/test/aaza/image0002832.jpg is saved\n",
      "16\n",
      "Number of detected faces: 1\n",
      "C:/Users/research/Desktop/thesis/test/aaza/image0002849.jpg is saved\n",
      "17\n",
      "Number of detected faces: 1\n",
      "C:/Users/research/Desktop/thesis/test/aaza/image0003201.jpg is saved\n",
      "18\n",
      "Number of detected faces: 1\n",
      "C:/Users/research/Desktop/thesis/test/aaza/image0009996.jpg is saved\n",
      "19\n",
      "Number of detected faces: 0\n",
      "Number of detected faces: 0\n",
      "Number of detected faces: 0\n",
      "Number of detected faces: 0\n",
      "20\n",
      "Number of detected faces: 1\n",
      "C:/Users/research/Desktop/thesis/test/aaza/Screenshot_20221101-073819_Opera Mini.jpg is saved\n",
      "21\n",
      "Number of detected faces: 0\n",
      "Number of detected faces: 0\n",
      "Number of detected faces: 0\n",
      "Number of detected faces: 0\n",
      "22\n",
      "Number of detected faces: 1\n",
      "C:/Users/research/Desktop/thesis/test/aaza/woman-suffering-stress-headache-grimacing-260nw-192268697.jpg is saved\n",
      "23\n",
      "Number of detected faces: 1\n",
      "C:/Users/research/Desktop/thesis/test/aaza/young-african-american-man-holding-260nw-1820939108.jpg is saved\n",
      "24\n",
      "Number of detected faces: 1\n",
      "C:/Users/research/Desktop/thesis/test/aaza/young-fit-sporty-woman-painful-260nw-1019069947.jpg is saved\n",
      "25\n",
      "Number of detected faces: 1\n",
      "C:/Users/research/Desktop/thesis/test/aaza/young-funny-handsome-man-beard-260nw-1184217358.jpg is saved\n",
      "26\n",
      "Number of detected faces: 1\n",
      "C:/Users/research/Desktop/thesis/test/aaza/young-girl-keeps-hand-on-260nw-571576168.jpg is saved\n"
     ]
    }
   ],
   "source": [
    "count = 0\n",
    "dirx = \"C:/Users/research/Desktop/thesis/test/aaz\"\n",
    "ndir = \"C:/Users/research/Desktop/thesis/test/aaza\"\n",
    "for files in os.listdir(dirx):\n",
    "    count = count + 1\n",
    "    print(count)\n",
    "    ndirx = dirx + '/' + files\n",
    "    nmane = ndir + '/' + files\n",
    "    #print(ndirx)\n",
    "    # read the input image\n",
    "    img = cv2.imread(ndirx)\n",
    "    # convert to grayscale of each frames\n",
    "    gray = cv2.cvtColor(img, cv2.COLOR_BGR2GRAY)\n",
    "    # read the haarcascade to detect the faces in an image\n",
    "    face_cascade = cv2.CascadeClassifier('haarcascades/haarcascade_frontalface_alt.xml')\n",
    "\n",
    "    # detects faces in the input image\n",
    "    faces = face_cascade.detectMultiScale(gray, 1.1, 4)\n",
    "    print('Number of detected faces:', len(faces))\n",
    "    \n",
    "    if len(faces) == 0:\n",
    "        # read the haarcascade to detect the faces in an image\n",
    "        face_cascade = cv2.CascadeClassifier('haarcascades/haarcascade_frontalface_alt2.xml')\n",
    "        # detects faces in the input image\n",
    "        faces = face_cascade.detectMultiScale(gray, 1.1, 2)\n",
    "        print('Number of detected faces:', len(faces))\n",
    "    \n",
    "    if len(faces) == 0:\n",
    "        # read the haarcascade to detect the faces in an image\n",
    "        face_cascade = cv2.CascadeClassifier('haarcascades/haarcascade_frontalface_default.xml')\n",
    "        # detects faces in the input image\n",
    "        faces = face_cascade.detectMultiScale(gray, 1.3, 4)\n",
    "        print('Number of detected faces:', len(faces))\n",
    "        \n",
    "    if len(faces) == 0:\n",
    "        # read the haarcascade to detect the faces in an image\n",
    "        face_cascade = cv2.CascadeClassifier('haarcascades/haarcascade_profileface.xml')\n",
    "        # detects faces in the input image\n",
    "        faces = face_cascade.detectMultiScale(gray, 1.1, 2)\n",
    "        print('Number of detected faces:', len(faces))\n",
    "    if len(faces) > 0:\n",
    "        for i, (x, y, w, h) in enumerate(faces):\n",
    "            # To draw a rectangle in a face\n",
    "            cv2.rectangle(img, (x, y), (x + w, y + h), (0, 255, 255), 2)\n",
    "            face = img[y:y + h, x:x + w]\n",
    "            #cv2.imshow(\"Cropped Face\", face)\n",
    "            face = cv2.resize(face, (224, 224))\n",
    "            cv2.imwrite(f'{nmane}', face)\n",
    "            print(f\"{nmane} is saved\")\n",
    "\n",
    "    "
   ]
  },
  {
   "cell_type": "code",
   "execution_count": null,
   "id": "0da14f6a",
   "metadata": {},
   "outputs": [],
   "source": [
    "\n",
    "\n",
    "#testing image read the input image\n",
    "img = cv2.imread(\"test/young-girl-keeps-hand-on-260nw-571576168.jpg\")\n",
    "#img = cv2.imread(\"JuVIA.png\")\n",
    "plt.imshow(img)\n",
    "\n",
    "# convert to grayscale of each frames\n",
    "gray = cv2.cvtColor(img, cv2.COLOR_BGR2GRAY)\n",
    "\n",
    "# read the haarcascade to detect the faces in an image\n",
    "face_cascade = cv2.CascadeClassifier('haarcascades/haarcascade_frontalface_alt.xml')\n",
    "\n",
    "# detects faces in the input image\n",
    "faces = face_cascade.detectMultiScale(gray, 1.1, 4)\n",
    "print('Number of detected faces:', len(faces))\n",
    "\n",
    "if len(faces) == 0:\n",
    "    # read the haarcascade to detect the faces in an image\n",
    "    face_cascade = cv2.CascadeClassifier('haarcascades/haarcascade_frontalface_alt2.xml')\n",
    "    # detects faces in the input image\n",
    "    faces = face_cascade.detectMultiScale(gray, 1.1, 2)\n",
    "    print('Number of detected faces:', len(faces))\n",
    "    \n",
    "if len(faces) == 0:\n",
    "    # read the haarcascade to detect the faces in an image\n",
    "    face_cascade = cv2.CascadeClassifier('haarcascades/haarcascade_frontalface_default.xml')\n",
    "    # detects faces in the input image\n",
    "    faces = face_cascade.detectMultiScale(gray, 1.3, 4)\n",
    "    print('Number of detected faces:', len(faces))\n",
    "    \n",
    "if len(faces) == 0:\n",
    "    # read the haarcascade to detect the faces in an image\n",
    "    face_cascade = cv2.CascadeClassifier('haarcascades/haarcascade_profileface.xml')\n",
    "    # detects faces in the input image\n",
    "    faces = face_cascade.detectMultiScale(gray, 1.1, 2)\n",
    "    print('Number of detected faces:', len(faces))\n",
    "    \n",
    "    \n",
    "if len(faces) > 0:\n",
    "    for i, (x, y, w, h) in enumerate(faces):\n",
    "        # To draw a rectangle in a face\n",
    "        cv2.rectangle(img, (x, y), (x + w, y + h), (0, 255, 255), 2)\n",
    "        face = img[y:y + h, x:x + w]\n",
    "        #cv2.imshow(\"Cropped Face\", face)\n",
    "        cv2.imwrite(f'face{i}.jpg', face)\n",
    "        print(f\"face{i}.jpg is saved\")\n"
   ]
  },
  {
   "cell_type": "code",
   "execution_count": null,
   "id": "ebf55784",
   "metadata": {},
   "outputs": [],
   "source": [
    "\n",
    "\n"
   ]
  },
  {
   "cell_type": "code",
   "execution_count": null,
   "id": "b4c39a08",
   "metadata": {},
   "outputs": [],
   "source": [
    "count = 0\n",
    "dirx = \"C:/Users/research/Desktop/z8\"\n",
    "ndir = \"C:/Users/research/Desktop/8\"\n",
    "for files in os.listdir(dirx):\n",
    "    count = count + 1\n",
    "    print(count)\n",
    "    ndirx = dirx + '/' + files\n",
    "    nmane = ndir + '/' + files\n",
    "    #print(ndirx)\n",
    "    # read the input image\n",
    "    img = cv2.imread(ndirx)\n",
    "    # convert to grayscale of each frames\n",
    "    #gray = cv2.cvtColor(img, cv2.COLOR_BGR2GRAY)\n",
    "    # read the haarcascade to detect the faces in an image\n",
    "    #face_cascade = cv2.CascadeClassifier('haarcascades/haarcascade_frontalface_alt.xml')\n",
    "\n",
    "    # detects faces in the input image\n",
    "    #faces = face_cascade.detectMultiScale(gray, 1.1, 4)\n",
    "    #print('Number of detected faces:', len(faces))\n",
    "    if 1 > 0:\n",
    "        face = cv2.resize(img, (224, 224))\n",
    "        \n",
    "        #cv2.imshow(\"Cropped Face\", face)\n",
    "        ###nmane = nmane.replace(\"612x612\", \"612x612a\")\n",
    "        cv2.imwrite(f'{nmane}', face)\n",
    "        print(f\"{nmane} is saved\")\n",
    "\n",
    "    \n"
   ]
  },
  {
   "cell_type": "code",
   "execution_count": null,
   "id": "f8ca7e82",
   "metadata": {},
   "outputs": [],
   "source": [
    "\n",
    "\n"
   ]
  },
  {
   "cell_type": "code",
   "execution_count": null,
   "id": "c3304d11",
   "metadata": {},
   "outputs": [],
   "source": [
    "\n",
    " \n",
    "# display the image with detected faces\n",
    "#cv2.imshow(\"image\", img)\n",
    "#cv2.waitKey(0)\n",
    "#cv2.destroyAllWindows()"
   ]
  },
  {
   "cell_type": "code",
   "execution_count": null,
   "id": "2a65c3a4",
   "metadata": {},
   "outputs": [],
   "source": [
    "count = 0\n",
    "dirx = \"aa\"\n",
    "ndir = \"zppimgs\"\n",
    "for files in os.listdir(dirx):\n",
    "    count = count + 1\n",
    "    print(count)\n",
    "    ndirx = dirx + '/' + files\n",
    "    nmane = ndir + '/' + files\n",
    "    #print(ndirx)\n",
    "    # read the input image\n",
    "    img = cv2.imread(ndirx)\n",
    "    # convert to grayscale of each frames\n",
    "    gray = cv2.cvtColor(img, cv2.COLOR_BGR2GRAY)\n",
    "    # read the haarcascade to detect the faces in an image\n",
    "    face_cascade = cv2.CascadeClassifier('haarcascades/haarcascade_frontalface_alt.xml')\n",
    "\n",
    "    # detects faces in the input image\n",
    "    faces = face_cascade.detectMultiScale(gray, 1.1, 4)\n",
    "    print('Number of detected faces:', len(faces))\n",
    "    \n",
    "    if len(faces) == 0:\n",
    "        # read the haarcascade to detect the faces in an image\n",
    "        face_cascade = cv2.CascadeClassifier('haarcascades/haarcascade_frontalface_alt2.xml')\n",
    "        # detects faces in the input image\n",
    "        faces = face_cascade.detectMultiScale(gray, 1.1, 2)\n",
    "        print('Number of detected faces:', len(faces))\n",
    "    \n",
    "    if len(faces) == 0:\n",
    "        # read the haarcascade to detect the faces in an image\n",
    "        face_cascade = cv2.CascadeClassifier('haarcascades/haarcascade_frontalface_default.xml')\n",
    "        # detects faces in the input image\n",
    "        faces = face_cascade.detectMultiScale(gray, 1.3, 4)\n",
    "        print('Number of detected faces:', len(faces))\n",
    "        \n",
    "    if len(faces) == 0:\n",
    "        # read the haarcascade to detect the faces in an image\n",
    "        face_cascade = cv2.CascadeClassifier('haarcascades/haarcascade_profileface.xml')\n",
    "        # detects faces in the input image\n",
    "        faces = face_cascade.detectMultiScale(gray, 1.1, 2)\n",
    "        print('Number of detected faces:', len(faces))\n",
    "    if len(faces) > 0:\n",
    "        rrcount = 1\n",
    "        for i, (x, y, w, h) in enumerate(faces):\n",
    "            # To draw a rectangle in a face\n",
    "            cv2.rectangle(img, (x, y), (x + w, y + h), (0, 255, 255), 2)\n",
    "            face = img[y:y + h, x:x + w]\n",
    "            #cv2.imshow(\"Cropped Face\", face)\n",
    "            new_jpg = str(rrcount) + \".jpg\"\n",
    "            new_nmane = nmane.replace(\".jpg\", new_jpg)\n",
    "            cv2.imwrite(f'{new_nmane}', face)\n",
    "            rrcount = rrcount + 1\n",
    "            print(f\"{new_nmane} is saved\")"
   ]
  },
  {
   "cell_type": "code",
   "execution_count": 40,
   "id": "fb3063f0",
   "metadata": {
    "scrolled": false
   },
   "outputs": [
    {
     "data": {
      "text/plain": [
       "<matplotlib.image.AxesImage at 0x18d40b54220>"
      ]
     },
     "execution_count": 40,
     "metadata": {},
     "output_type": "execute_result"
    },
    {
     "data": {
      "image/png": "[encoded data removed]",
      "text/plain": [
       "<Figure size 640x480 with 1 Axes>"
      ]
     },
     "metadata": {},
     "output_type": "display_data"
    }
   ],
   "source": [
    "img1 = cv2.imread(\"C:/Users/research/Desktop/fer2013/test/surprise/PrivateTest_1338609.jpg\")\n",
    "plt.imshow(img1)"
   ]
  },
  {
   "cell_type": "code",
   "execution_count": 41,
   "id": "34efcf55",
   "metadata": {},
   "outputs": [],
   "source": [
    "final_img = cv2.resize(img1, (224, 224))"
   ]
  },
  {
   "cell_type": "code",
   "execution_count": 42,
   "id": "47251f23",
   "metadata": {},
   "outputs": [],
   "source": [
    "final_img = np.expand_dims(final_img,axis =0) #adding fourth dimension"
   ]
  },
  {
   "cell_type": "code",
   "execution_count": 43,
   "id": "dba7fd8a",
   "metadata": {},
   "outputs": [],
   "source": [
    "final_img = final_img/255.0 #normalizing"
   ]
  },
  {
   "cell_type": "code",
   "execution_count": 8,
   "id": "fac834a8",
   "metadata": {},
   "outputs": [],
   "source": [
    "#import tensorflow as tf\n",
    "#from tensorflow import keras\n",
    "#from tensorflow.keras.models import load_model"
   ]
  },
  {
   "cell_type": "code",
   "execution_count": 44,
   "id": "4cb48af2",
   "metadata": {},
   "outputs": [],
   "source": [
    "new_modelp = load_model(\"my_apain_model_91ep.h5\")"
   ]
  },
  {
   "cell_type": "code",
   "execution_count": 46,
   "id": "979a8a1e",
   "metadata": {},
   "outputs": [],
   "source": [
    "Predictions = new_modelp.predict(final_img)"
   ]
  },
  {
   "cell_type": "code",
   "execution_count": 47,
   "id": "2c4aed86",
   "metadata": {},
   "outputs": [
    {
     "data": {
      "text/plain": [
       "array([3.3320218e-06, 3.0750861e-02, 1.5119085e-09, 6.9305330e-09,\n",
       "       9.6924579e-01, 4.1111601e-08], dtype=float32)"
      ]
     },
     "execution_count": 47,
     "metadata": {},
     "output_type": "execute_result"
    }
   ],
   "source": [
    "Predictions[0]"
   ]
  },
  {
   "cell_type": "code",
   "execution_count": 39,
   "id": "66a73f3e",
   "metadata": {},
   "outputs": [
    {
     "data": {
      "text/plain": [
       "0"
      ]
     },
     "execution_count": 39,
     "metadata": {},
     "output_type": "execute_result"
    }
   ],
   "source": [
    "np.argmax(Predictions)"
   ]
  },
  {
   "cell_type": "code",
   "execution_count": 13,
   "id": "afb82044",
   "metadata": {},
   "outputs": [
    {
     "name": "stdout",
     "output_type": "stream",
     "text": [
      "[[9.7501421e-01 2.1020124e-02 1.6698646e-04 3.4313460e-04 3.3736068e-03\n",
      "  8.1952967e-05]]\n"
     ]
    }
   ],
   "source": [
    "print(Predictions)"
   ]
  },
  {
   "cell_type": "code",
   "execution_count": 8,
   "id": "217a5085",
   "metadata": {},
   "outputs": [],
   "source": [
    "from skimage import color\n",
    "from skimage import io\n",
    "\n",
    "import matplotlib.pyplot as plt\n",
    "import numpy as np\n",
    "#import tensorflow as tf\n",
    "# import required libraries\n",
    "import cv2\n",
    "import os\n",
    "from skimage import img_as_ubyte"
   ]
  },
  {
   "cell_type": "code",
   "execution_count": 2,
   "id": "85d9b3de",
   "metadata": {},
   "outputs": [
    {
     "ename": "FileNotFoundError",
     "evalue": "[WinError 3] The system cannot find the path specified: 'C:/Users/research/Desktop/adell'",
     "output_type": "error",
     "traceback": [
      "\u001b[1;31m---------------------------------------------------------------------------\u001b[0m",
      "\u001b[1;31mFileNotFoundError\u001b[0m                         Traceback (most recent call last)",
      "Cell \u001b[1;32mIn[2], line 4\u001b[0m\n\u001b[0;32m      2\u001b[0m dirx \u001b[38;5;241m=\u001b[39m \u001b[38;5;124m\"\u001b[39m\u001b[38;5;124mC:/Users/research/Desktop/adell\u001b[39m\u001b[38;5;124m\"\u001b[39m\n\u001b[0;32m      3\u001b[0m ndir \u001b[38;5;241m=\u001b[39m \u001b[38;5;124m\"\u001b[39m\u001b[38;5;124mC:/Users/research/Desktop/adell\u001b[39m\u001b[38;5;124m\"\u001b[39m\n\u001b[1;32m----> 4\u001b[0m \u001b[38;5;28;01mfor\u001b[39;00m files \u001b[38;5;129;01min\u001b[39;00m \u001b[43mos\u001b[49m\u001b[38;5;241;43m.\u001b[39;49m\u001b[43mlistdir\u001b[49m\u001b[43m(\u001b[49m\u001b[43mdirx\u001b[49m\u001b[43m)\u001b[49m:\n\u001b[0;32m      5\u001b[0m     count \u001b[38;5;241m=\u001b[39m count \u001b[38;5;241m+\u001b[39m \u001b[38;5;241m1\u001b[39m\n\u001b[0;32m      6\u001b[0m     \u001b[38;5;28mprint\u001b[39m(count)\n",
      "\u001b[1;31mFileNotFoundError\u001b[0m: [WinError 3] The system cannot find the path specified: 'C:/Users/research/Desktop/adell'"
     ]
    }
   ],
   "source": [
    "\n",
    "count = 0\n",
    "dirx = \"C:/Users/research/Desktop/adell\"\n",
    "ndir = \"C:/Users/research/Desktop/adell\"\n",
    "for files in os.listdir(dirx):\n",
    "    count = count + 1\n",
    "    print(count)\n",
    "    ndirx = dirx + '/' + files\n",
    "    nmane = ndir + '/' + files\n",
    "    #print(ndirx)\n",
    "    # read the input image\n",
    "    img = io.imread(ndirx)\n",
    "    imgGray = color.rgb2gray(img)\n",
    "    io.imshow(imgGray)\n",
    "    \n",
    "    imgGray = cv2.resize(imgGray, (48, 48))\n",
    "    io.imsave(nmane, img_as_ubyte(imgGray))\n",
    "    \n",
    "    #cv2.imwrite(f'{nmane}', imgGray)\n",
    "    print(f\"{nmane} is saved\")"
   ]
  },
  {
   "cell_type": "code",
   "execution_count": null,
   "id": "a028f55a",
   "metadata": {},
   "outputs": [],
   "source": []
  }
 ],
 "metadata": {
  "kernelspec": {
   "display_name": "Python 3 (ipykernel)",
   "language": "python",
   "name": "python3"
  },
  "language_info": {
   "codemirror_mode": {
    "name": "ipython",
    "version": 3
   },
   "file_extension": ".py",
   "mimetype": "text/x-python",
   "name": "python",
   "nbconvert_exporter": "python",
   "pygments_lexer": "ipython3",
   "version": "3.10.9"
  }
 },
 "nbformat": 4,
 "nbformat_minor": 5
}
